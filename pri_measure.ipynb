{
 "cells": [
  {
   "cell_type": "code",
   "execution_count": null,
   "metadata": {
    "collapsed": false,
    "scrolled": true
   },
   "outputs": [],
   "source": [
    "from pri_data import bigram_weights, political_bigrams, risk_synonyms"
   ]
  },
  {
   "cell_type": "code",
   "execution_count": null,
   "metadata": {
    "collapsed": true
   },
   "outputs": [],
   "source": [
    "# Get data from database for one file\n",
    "\n",
    "import pandas as pd\n",
    "\n",
    "import sqlalchemy as sa\n",
    "import psycopg2 as pg\n",
    "from pandas.io.sql import read_sql\n",
    "\n",
    "from sqlalchemy import create_engine\n",
    "engine = create_engine('postgresql://iangow.me/crsp')\n",
    "\n",
    "file_name = \"2663156_T\"\n",
    "\n",
    "sql = \"\"\"\n",
    "    SELECT *\n",
    "    FROM streetevents.speaker_data\n",
    "    WHERE file_name = '%s'\n",
    "    \"\"\" % file_name\n",
    "\n",
    "df = pd.read_sql(sa.text(sql), engine)"
   ]
  },
  {
   "cell_type": "code",
   "execution_count": null,
   "metadata": {
    "collapsed": false
   },
   "outputs": [],
   "source": [
    "# A quick look at the data\n",
    "df"
   ]
  },
  {
   "cell_type": "code",
   "execution_count": null,
   "metadata": {
    "collapsed": true
   },
   "outputs": [],
   "source": [
    "# I will use the first (long) passage for illustration\n",
    "first_speech = df['speaker_text'][0]"
   ]
  },
  {
   "cell_type": "code",
   "execution_count": null,
   "metadata": {
    "collapsed": false
   },
   "outputs": [],
   "source": [
    "from nltk import bigrams, word_tokenize, sent_tokenize"
   ]
  },
  {
   "cell_type": "code",
   "execution_count": null,
   "metadata": {
    "collapsed": false
   },
   "outputs": [],
   "source": [
    "def flatten(l):\n",
    "    return [item for sublist in l for item in sublist]\n",
    "\n",
    "def get_words(text):\n",
    "    sents = sent_tokenize(text)\n",
    "    words = flatten([word_tokenize(sent) for sent in sents])\n",
    "    return words\n",
    "\n",
    "def get_bigrams(text):\n",
    "    return list(bigrams(get_words(text)))"
   ]
  },
  {
   "cell_type": "code",
   "execution_count": null,
   "metadata": {
    "collapsed": true
   },
   "outputs": [],
   "source": [
    "def find_bigrams(the_text):\n",
    "    bigrams_list = get_bigrams(the_text)\n",
    "    indexes = [(x, i) \n",
    "               for (i,x) in enumerate(bigrams_list) \n",
    "                   if x in political_bigrams]\n",
    "    return indexes"
   ]
  },
  {
   "cell_type": "code",
   "execution_count": null,
   "metadata": {
    "collapsed": false
   },
   "outputs": [],
   "source": [
    "bigram_matches = find_bigrams(first_speech)\n",
    "print(bigram_matches)"
   ]
  },
  {
   "cell_type": "code",
   "execution_count": null,
   "metadata": {
    "collapsed": false
   },
   "outputs": [],
   "source": [
    "def find_synonyms(the_text):\n",
    "    bigrams_list = get_words(the_text)\n",
    "    indexes = [(x, i) for (i,x) in enumerate(bigrams_list) if x in risk_synonyms]\n",
    "    return indexes"
   ]
  },
  {
   "cell_type": "code",
   "execution_count": null,
   "metadata": {
    "collapsed": false
   },
   "outputs": [],
   "source": [
    "synonym_matches = find_synonyms(first_speech)\n",
    "print(synonym_matches)"
   ]
  },
  {
   "cell_type": "code",
   "execution_count": null,
   "metadata": {
    "collapsed": false
   },
   "outputs": [],
   "source": [
    "def find_matches(the_text):\n",
    "    bgs = find_bigrams(the_text)\n",
    "    syns = find_synonyms(the_text)\n",
    "    matches = [{'synonym': s, 'bigram': b} for s in syns for b in bgs if abs(s[1]-b[1]) < 10]\n",
    "    \n",
    "    words = get_words(the_text)\n",
    "    \n",
    "    for match in matches:\n",
    "        positions = (match['synonym'][1], match['bigram'][1])\n",
    "        first = max(min(positions) - 5, 0)\n",
    "        last = min(max(positions) + 5, len(words) - 1)\n",
    "        match['bigram_score'] = bigram_weights[match['bigram'][0]]\n",
    "        match['text'] =  ' '.join(words[first:last])\n",
    "    return matches"
   ]
  },
  {
   "cell_type": "code",
   "execution_count": null,
   "metadata": {
    "collapsed": false
   },
   "outputs": [],
   "source": [
    "find_matches(first_speech)"
   ]
  },
  {
   "cell_type": "code",
   "execution_count": null,
   "metadata": {
    "collapsed": false
   },
   "outputs": [],
   "source": [
    "def score_bigrams(matches):\n",
    "    if matches:\n",
    "        return sum(b['bigram_score'] for b in matches)\n",
    "    else:\n",
    "        return 0\n",
    "                    \n",
    "def count_matches(matches):\n",
    "    if matches:\n",
    "        return len(matches)\n",
    "    else:\n",
    "        return 0\n",
    "    \n",
    "def count_bigrams(the_text):\n",
    "    if the_text:\n",
    "        return len(get_bigrams(the_text))\n",
    "    else:\n",
    "        return 0\n",
    "\n",
    "df['matches'] = df['speaker_text'].map(find_matches) \n",
    "df['bigram_matches'] = df['matches'].map(count_matches)\n",
    "df['bigram_scores'] = df['matches'].map(score_bigrams)\n",
    "df['bigram_counts'] = df['speaker_text'].map(count_bigrams)\n",
    "\n",
    "# Multiply the sum by 100,000 and divide the result by the average bigram score \n",
    "# of the training library (0.38533). This is the numerator of the transcript \n",
    "# score. Divide by the length of the transcript and standardize (divide) \n",
    "# the result by the sample standard deviation (236.42474). \n",
    "numer = sum(df['bigram_scores']) * 1e5/0.38533\n",
    "denom = sum(df['bigram_counts']) * 236.42474\n",
    "score = numer/denom\n",
    "print(score)"
   ]
  }
 ],
 "metadata": {
  "kernelspec": {
   "display_name": "Python 3",
   "language": "python",
   "name": "python3"
  },
  "language_info": {
   "codemirror_mode": {
    "name": "ipython",
    "version": 3
   },
   "file_extension": ".py",
   "mimetype": "text/x-python",
   "name": "python",
   "nbconvert_exporter": "python",
   "pygments_lexer": "ipython3",
   "version": "3.5.2"
  }
 },
 "nbformat": 4,
 "nbformat_minor": 1
}
